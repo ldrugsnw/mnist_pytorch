{
  "nbformat": 4,
  "nbformat_minor": 0,
  "metadata": {
    "colab": {
      "provenance": [],
      "toc_visible": true
    },
    "kernelspec": {
      "name": "python3",
      "display_name": "Python 3"
    },
    "language_info": {
      "name": "python"
    }
  },
  "cells": [
    {
      "cell_type": "code",
      "execution_count": 59,
      "metadata": {
        "id": "LUuu0oF8s3SM"
      },
      "outputs": [],
      "source": [
        "import tensorflow as tf\n",
        "from tensorflow import keras\n",
        "import matplotlib.pyplot as plt"
      ]
    },
    {
      "cell_type": "code",
      "source": [
        "import torch\n",
        "import torch.nn as nn\n",
        "import torchvision\n",
        "import torchvision.transforms as transforms"
      ],
      "metadata": {
        "id": "TeFs7uNjvqC9"
      },
      "execution_count": 60,
      "outputs": []
    },
    {
      "cell_type": "markdown",
      "source": [],
      "metadata": {
        "id": "dHbEz00Owi4V"
      }
    },
    {
      "cell_type": "code",
      "source": [
        "# 데이터 변환 정의 (정규화 포함)\n",
        "transform = transforms.Compose([\n",
        "    transforms.ToTensor(),  # PIL이나 numpy를 tensor로 변환하고 [0,1]로 정규화\n",
        "])\n",
        "\n",
        "# 데이터셋 로드\n",
        "train_dataset = torchvision.datasets.MNIST(root='./data',\n",
        "                                           train=True,\n",
        "                                           transform=transform,\n",
        "                                           download=True)\n",
        "\n",
        "test_dataset = torchvision.datasets.MNIST(root='./data',\n",
        "                                          train=False,\n",
        "                                          transform=transform)\n",
        "\n",
        "print(f\"훈련 데이터 개수: {len(train_dataset)}\")\n",
        "print(f\"테스트 데이터 개수: {len(test_dataset)}\")"
      ],
      "metadata": {
        "colab": {
          "base_uri": "https://localhost:8080/"
        },
        "id": "sts9pTt_v4J7",
        "outputId": "a2d8a8a6-be86-44b5-f680-ded7d4ec8007"
      },
      "execution_count": 61,
      "outputs": [
        {
          "output_type": "stream",
          "name": "stdout",
          "text": [
            "훈련 데이터 개수: 60000\n",
            "테스트 데이터 개수: 10000\n"
          ]
        }
      ]
    },
    {
      "cell_type": "code",
      "source": [
        "# 첫 번째 샘플 확인\n",
        "image, label = train_dataset[0]\n",
        "print(f\"이미지 모양: {image.shape}\")\n",
        "print(f\"레이블: {label}\")\n",
        "\n",
        "# 이미지 시각화\n",
        "plt.imshow(image.squeeze(), cmap='gray')  # squeeze()로 (1, 28, 28) -> (28, 28)\n",
        "plt.title(f\"레이블: {label}\")\n",
        "plt.show()"
      ],
      "metadata": {
        "colab": {
          "base_uri": "https://localhost:8080/",
          "height": 615
        },
        "id": "MaduESV5wuCT",
        "outputId": "02ec423a-ffbd-4de1-b507-f6f6e20c488e"
      },
      "execution_count": 62,
      "outputs": [
        {
          "output_type": "stream",
          "name": "stdout",
          "text": [
            "이미지 모양: torch.Size([1, 28, 28])\n",
            "레이블: 5\n"
          ]
        },
        {
          "output_type": "stream",
          "name": "stderr",
          "text": [
            "/usr/local/lib/python3.12/dist-packages/IPython/core/pylabtools.py:151: UserWarning: Glyph 47112 (\\N{HANGUL SYLLABLE RE}) missing from font(s) DejaVu Sans.\n",
            "  fig.canvas.print_figure(bytes_io, **kw)\n",
            "/usr/local/lib/python3.12/dist-packages/IPython/core/pylabtools.py:151: UserWarning: Glyph 51060 (\\N{HANGUL SYLLABLE I}) missing from font(s) DejaVu Sans.\n",
            "  fig.canvas.print_figure(bytes_io, **kw)\n",
            "/usr/local/lib/python3.12/dist-packages/IPython/core/pylabtools.py:151: UserWarning: Glyph 48660 (\\N{HANGUL SYLLABLE BEUL}) missing from font(s) DejaVu Sans.\n",
            "  fig.canvas.print_figure(bytes_io, **kw)\n"
          ]
        },
        {
          "output_type": "display_data",
          "data": {
            "text/plain": [
              "<Figure size 640x480 with 1 Axes>"
            ],
            "image/png": "[encoded data removed]"
          },
          "metadata": {}
        }
      ]
    },
    {
      "cell_type": "code",
      "source": [
        "class CNN(nn.Module):\n",
        "    def __init__(self):\n",
        "        super(CNN, self).__init__()\n",
        "        self.conv1 = nn.Conv2d(1, 32, (3, 3))\n",
        "        self.conv2 = nn.Conv2d(32, 64, (3, 3))\n",
        "        self.pool1 = nn.MaxPool2d(2, 2)\n",
        "\n",
        "        self.fc1 = nn.Linear(1600, 10)\n",
        "\n",
        "    def forward(self, x):\n",
        "        # 여기에 데이터가 어떻게 흘러갈지 정의할 거예요\n",
        "        x = self.conv1(x)\n",
        "        x = torch.relu(x)\n",
        "        x = self.pool1(x) # 크기를 더 줄이고 중요한 특징만 남김\n",
        "\n",
        "        x = self.conv2(x)\n",
        "        x = torch.relu(x)\n",
        "        x = self.pool1(x)\n",
        "\n",
        "        x = torch.flatten(x, 1) # [1, 1600] => [1, 64 * 5 * 5]\n",
        "\n",
        "        x = self.fc1(x)\n",
        "\n",
        "        return x"
      ],
      "metadata": {
        "id": "mDtH0KBNwzgr"
      },
      "execution_count": 73,
      "outputs": []
    },
    {
      "cell_type": "code",
      "source": [
        "model = CNN()\n",
        "print(model)\n",
        "\n",
        "# 테스트용 데이터로 모델이 잘 작동하는지 확인\n",
        "test_input = torch.randn(1, 1, 28, 28)  # (배치크기, 채널, 높이, 너비)\n",
        "output = model(test_input)\n",
        "print(f\"입력 모양: {test_input.shape}\")\n",
        "print(f\"출력 모양: {output.shape}\")\n",
        "print(f\"출력값: {output}\")"
      ],
      "metadata": {
        "colab": {
          "base_uri": "https://localhost:8080/"
        },
        "id": "SfTNliwsxaIX",
        "outputId": "fad79682-601e-4c84-804d-e3013d63d4f3"
      },
      "execution_count": 75,
      "outputs": [
        {
          "output_type": "stream",
          "name": "stdout",
          "text": [
            "CNN(\n",
            "  (conv1): Conv2d(1, 32, kernel_size=(3, 3), stride=(1, 1))\n",
            "  (conv2): Conv2d(32, 64, kernel_size=(3, 3), stride=(1, 1))\n",
            "  (pool1): MaxPool2d(kernel_size=2, stride=2, padding=0, dilation=1, ceil_mode=False)\n",
            "  (fc1): Linear(in_features=1600, out_features=10, bias=True)\n",
            ")\n",
            "입력 모양: torch.Size([1, 1, 28, 28])\n",
            "출력 모양: torch.Size([1, 10])\n",
            "출력값: tensor([[-0.0926,  0.4829,  0.1508, -0.2007,  0.4700,  0.1705,  0.1251, -0.2830,\n",
            "         -0.3291, -0.2596]], grad_fn=<AddmmBackward0>)\n"
          ]
        }
      ]
    },
    {
      "cell_type": "code",
      "source": [
        "import torch.optim as optim\n",
        "\n",
        "# 손실함수와 옵티마이저 정의\n",
        "criterion = nn.CrossEntropyLoss()\n",
        "optimizer = optim.AdamW(model.parameters(), lr=0.001)  # 학습률 0.001"
      ],
      "metadata": {
        "id": "gLciWWc1xoCn"
      },
      "execution_count": 76,
      "outputs": []
    },
    {
      "cell_type": "code",
      "source": [
        "from torch.utils.data import DataLoader\n",
        "\n",
        "train_loader = DataLoader(train_dataset, batch_size=64, shuffle=True)\n",
        "test_loader = DataLoader(test_dataset, batch_size=64, shuffle=False)"
      ],
      "metadata": {
        "id": "CtMzN_Afz3Zx"
      },
      "execution_count": 77,
      "outputs": []
    },
    {
      "cell_type": "code",
      "source": [
        "def test_accuracy():\n",
        "    model.eval()  # 평가 모드로 설정\n",
        "    correct = 0\n",
        "    total = 0\n",
        "\n",
        "    with torch.no_grad():  # 기울기 계산 안함\n",
        "        for data, target in test_loader:\n",
        "            output = model(data)\n",
        "            _, predicted = torch.max(output.data, 1)  # 가장 높은 점수의 클래스\n",
        "            total += target.size(0)\n",
        "            correct += (predicted == target).sum().item()\n",
        "\n",
        "    accuracy = 100 * correct / total\n",
        "    print(f'테스트 정확도: {accuracy:.2f}%')\n",
        "    return accuracy"
      ],
      "metadata": {
        "id": "_UXagqld0MzD"
      },
      "execution_count": 79,
      "outputs": []
    },
    {
      "cell_type": "code",
      "source": [
        "num_epochs = 5"
      ],
      "metadata": {
        "id": "U2-1XdA4z4yt"
      },
      "execution_count": 81,
      "outputs": []
    },
    {
      "cell_type": "code",
      "source": [
        "for epoch in range(num_epochs):\n",
        "    model.train()\n",
        "    total_loss = 0\n",
        "\n",
        "    for batch_idx, (data, target) in enumerate(train_loader):\n",
        "        optimizer.zero_grad()\n",
        "        output = model(data)\n",
        "        loss = criterion(output, target)\n",
        "        loss.backward()\n",
        "        optimizer.step()  # 이게 빠졌어요!\n",
        "        total_loss += loss.item()\n",
        "\n",
        "        if batch_idx % 100 == 0:  # 이 if문이 for 루프 안으로 들어와야 해요\n",
        "            print(f'에포크 {epoch+1}/{num_epochs}, 배치 {batch_idx}, 손실: {loss.item():.6f}')\n",
        "\n",
        "    # 에포크 끝날 때마다 (for 루프와 같은 들여쓰기)\n",
        "    avg_loss = total_loss / len(train_loader)\n",
        "    print(f'\\n에포크 {epoch+1} 완료 - 평균 손실: {avg_loss:.6f}')\n",
        "    test_accuracy()\n",
        "    print(\"-\" * 50)"
      ],
      "metadata": {
        "colab": {
          "base_uri": "https://localhost:8080/"
        },
        "id": "JwntYKwYz9bx",
        "outputId": "83f15135-9716-4445-fc63-ce45b120c845"
      },
      "execution_count": 86,
      "outputs": [
        {
          "output_type": "stream",
          "name": "stdout",
          "text": [
            "에포크 1/5, 배치 0, 손실: 0.132704\n",
            "에포크 1/5, 배치 100, 손실: 0.098582\n",
            "에포크 1/5, 배치 200, 손실: 0.046018\n",
            "에포크 1/5, 배치 300, 손실: 0.113266\n",
            "에포크 1/5, 배치 400, 손실: 0.034198\n",
            "에포크 1/5, 배치 500, 손실: 0.061688\n",
            "에포크 1/5, 배치 600, 손실: 0.008964\n",
            "에포크 1/5, 배치 700, 손실: 0.031194\n",
            "에포크 1/5, 배치 800, 손실: 0.096051\n",
            "에포크 1/5, 배치 900, 손실: 0.018209\n",
            "\n",
            "에포크 1 완료 - 평균 손실: 0.043112\n",
            "테스트 정확도: 98.70%\n",
            "--------------------------------------------------\n",
            "에포크 2/5, 배치 0, 손실: 0.057081\n",
            "에포크 2/5, 배치 100, 손실: 0.010149\n",
            "에포크 2/5, 배치 200, 손실: 0.021143\n",
            "에포크 2/5, 배치 300, 손실: 0.036342\n",
            "에포크 2/5, 배치 400, 손실: 0.073014\n",
            "에포크 2/5, 배치 500, 손실: 0.004119\n",
            "에포크 2/5, 배치 600, 손실: 0.230401\n",
            "에포크 2/5, 배치 700, 손실: 0.009652\n",
            "에포크 2/5, 배치 800, 손실: 0.017883\n",
            "에포크 2/5, 배치 900, 손실: 0.010517\n",
            "\n",
            "에포크 2 완료 - 평균 손실: 0.034431\n",
            "테스트 정확도: 98.94%\n",
            "--------------------------------------------------\n",
            "에포크 3/5, 배치 0, 손실: 0.010962\n",
            "에포크 3/5, 배치 100, 손실: 0.009389\n",
            "에포크 3/5, 배치 200, 손실: 0.002666\n",
            "에포크 3/5, 배치 300, 손실: 0.012559\n",
            "에포크 3/5, 배치 400, 손실: 0.076947\n",
            "에포크 3/5, 배치 500, 손실: 0.025823\n",
            "에포크 3/5, 배치 600, 손실: 0.008966\n",
            "에포크 3/5, 배치 700, 손실: 0.037157\n",
            "에포크 3/5, 배치 800, 손실: 0.061319\n",
            "에포크 3/5, 배치 900, 손실: 0.023150\n",
            "\n",
            "에포크 3 완료 - 평균 손실: 0.028720\n",
            "테스트 정확도: 99.09%\n",
            "--------------------------------------------------\n",
            "에포크 4/5, 배치 0, 손실: 0.005657\n",
            "에포크 4/5, 배치 100, 손실: 0.006525\n",
            "에포크 4/5, 배치 200, 손실: 0.063104\n",
            "에포크 4/5, 배치 300, 손실: 0.009356\n",
            "에포크 4/5, 배치 400, 손실: 0.001245\n",
            "에포크 4/5, 배치 500, 손실: 0.001100\n",
            "에포크 4/5, 배치 600, 손실: 0.010601\n",
            "에포크 4/5, 배치 700, 손실: 0.001330\n",
            "에포크 4/5, 배치 800, 손실: 0.027095\n",
            "에포크 4/5, 배치 900, 손실: 0.031487\n",
            "\n",
            "에포크 4 완료 - 평균 손실: 0.024236\n",
            "테스트 정확도: 98.81%\n",
            "--------------------------------------------------\n",
            "에포크 5/5, 배치 0, 손실: 0.052642\n",
            "에포크 5/5, 배치 100, 손실: 0.007242\n",
            "에포크 5/5, 배치 200, 손실: 0.006795\n",
            "에포크 5/5, 배치 300, 손실: 0.030225\n",
            "에포크 5/5, 배치 400, 손실: 0.000802\n",
            "에포크 5/5, 배치 500, 손실: 0.003558\n",
            "에포크 5/5, 배치 600, 손실: 0.007225\n",
            "에포크 5/5, 배치 700, 손실: 0.002375\n",
            "에포크 5/5, 배치 800, 손실: 0.014094\n",
            "에포크 5/5, 배치 900, 손실: 0.019022\n",
            "\n",
            "에포크 5 완료 - 평균 손실: 0.019717\n",
            "테스트 정확도: 98.87%\n",
            "--------------------------------------------------\n"
          ]
        }
      ]
    },
    {
      "cell_type": "code",
      "source": [
        "import numpy as np\n",
        "\n",
        "# 테스트 데이터에서 몇 개 샘플 가져오기\n",
        "model.eval()\n",
        "test_samples = []\n",
        "test_labels = []\n",
        "\n",
        "with torch.no_grad():\n",
        "    for i in range(10):  # 처음 10개\n",
        "        image, label = test_dataset[i]\n",
        "        test_samples.append(image)\n",
        "        test_labels.append(label)\n",
        "\n",
        "# 배치로 만들기\n",
        "test_batch = torch.stack(test_samples)\n",
        "test_labels = torch.tensor(test_labels)\n",
        "\n",
        "# 예측\n",
        "predictions = model(test_batch)\n",
        "predicted_classes = torch.argmax(predictions, dim=1)\n",
        "\n",
        "print(\"실제 레이블:\", test_labels.numpy())\n",
        "print(\"예측 레이블:\", predicted_classes.numpy())"
      ],
      "metadata": {
        "colab": {
          "base_uri": "https://localhost:8080/"
        },
        "id": "yIZc8xvL2IvN",
        "outputId": "768d79ed-1ef9-410e-e5c1-72a4af232568"
      },
      "execution_count": 87,
      "outputs": [
        {
          "output_type": "stream",
          "name": "stdout",
          "text": [
            "실제 레이블: [7 2 1 0 4 1 4 9 5 9]\n",
            "예측 레이블: [7 2 1 0 4 1 4 9 5 9]\n"
          ]
        }
      ]
    },
    {
      "cell_type": "code",
      "source": [
        "import matplotlib.pyplot as plt\n",
        "\n",
        "# 시각화\n",
        "plt.figure(figsize=(15, 6))\n",
        "for i in range(10):\n",
        "    plt.subplot(2, 5, i + 1)\n",
        "    # 이미지 표시 (채널 차원 제거)\n",
        "    plt.imshow(test_samples[i].squeeze(), cmap='gray')\n",
        "\n",
        "    # 제목에 실제 vs 예측 표시\n",
        "    actual = test_labels[i].item()\n",
        "    predicted = predicted_classes[i].item()\n",
        "\n",
        "    # 맞으면 초록색, 틀리면 빨간색\n",
        "    color = 'green' if actual == predicted else 'red'\n",
        "    plt.title(f'actual?: {actual}, prediction: {predicted}', color=color)\n",
        "    plt.axis('off')\n",
        "\n",
        "plt.tight_layout()\n",
        "plt.show()"
      ],
      "metadata": {
        "colab": {
          "base_uri": "https://localhost:8080/",
          "height": 427
        },
        "id": "gxDRm2xH3G_P",
        "outputId": "9f62cbc2-13d3-40d1-fb08-db0dd3572b4c"
      },
      "execution_count": 89,
      "outputs": [
        {
          "output_type": "display_data",
          "data": {
            "text/plain": [
              "<Figure size 1500x600 with 10 Axes>"
            ],
            "image/png": "[encoded data removed]"
          },
          "metadata": {}
        }
      ]
    },
    {
      "cell_type": "code",
      "source": [],
      "metadata": {
        "id": "GQSG2qIi3e9W"
      },
      "execution_count": null,
      "outputs": []
    }
  ]
}